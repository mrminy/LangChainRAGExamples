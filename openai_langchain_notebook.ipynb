{
 "cells": [
  {
   "cell_type": "code",
   "execution_count": null,
   "id": "initial_id",
   "metadata": {
    "collapsed": true
   },
   "outputs": [],
   "source": [
    "from dotenv import load_dotenv\n",
    "\n",
    "load_dotenv()"
   ]
  },
  {
   "cell_type": "code",
   "outputs": [],
   "source": [
    "from langchain import hub\n",
    "from langchain_community.document_loaders import DirectoryLoader\n",
    "from langchain_community.vectorstores import Chroma\n",
    "from langchain_community.document_loaders import TextLoader\n",
    "from langchain_core.output_parsers import StrOutputParser\n",
    "from langchain_core.runnables import RunnablePassthrough\n",
    "from langchain.text_splitter import RecursiveCharacterTextSplitter\n",
    "from langchain_openai import OpenAIEmbeddings, ChatOpenAI"
   ],
   "metadata": {
    "collapsed": false,
    "ExecuteTime": {
     "end_time": "2024-01-11T09:43:12.198368500Z",
     "start_time": "2024-01-11T09:43:12.177338900Z"
    }
   },
   "id": "eb02234d3a121cb1",
   "execution_count": 10
  },
  {
   "cell_type": "code",
   "outputs": [],
   "source": [
    "def format_docs(docs):\n",
    "    return \"\\n\\n\".join(doc.page_content for doc in docs)"
   ],
   "metadata": {
    "collapsed": false,
    "ExecuteTime": {
     "end_time": "2024-01-11T09:43:12.237025700Z",
     "start_time": "2024-01-11T09:43:12.201367500Z"
    }
   },
   "id": "61865ff886d6e92b",
   "execution_count": 11
  },
  {
   "cell_type": "markdown",
   "source": [
    "Creating loader and loading documents from directory"
   ],
   "metadata": {
    "collapsed": false
   },
   "id": "6296424bb4ea59de"
  },
  {
   "cell_type": "code",
   "outputs": [
    {
     "name": "stderr",
     "output_type": "stream",
     "text": [
      "100%|██████████████████████████████████████████████████████████████████████████████████| 28/28 [00:00<00:00, 122.15it/s]"
     ]
    },
    {
     "name": "stdout",
     "output_type": "stream",
     "text": [
      "First document: page_content='{\\n \"cells\": [\\n  {\\n   \"cell_type\": \"raw\",\\n   \"id\": \"366a0e68-fd67-4fe5-a292-5c33733339ea\",\\n   \"metadata\": {},\\n   \"source\": [\\n    \"---\\\\n\",\\n    \"sidebar_position: 0\\\\n\",\\n    \"title: Get started\\\\n\",\\n    \"keywords: [chain.invoke]\\\\n\",\\n    \"---\"\\n   ]\\n  },\\n  {\\n   \"cell_type\": \"markdown\",\\n   \"id\": \"befa7fd1\",\\n   \"metadata\": {},\\n   \"source\": [\\n    \"LCEL makes it easy to build complex chains from basic components, and supports out of the box functionality such as streaming, parallelism, and logging.\"\\n   ]\\n  },\\n  {\\n   \"cell_type\": \"markdown\",\\n   \"id\": \"9a9acd2e\",\\n   \"metadata\": {},\\n   \"source\": [\\n    \"## Basic example: prompt + model + output parser\\\\n\",\\n    \"\\\\n\",\\n    \"The most basic and common use case is chaining a prompt template and a model together. To see how this works, let\\'s create a chain that takes a topic and generates a joke:\"\\n   ]\\n  },\\n  {\\n   \"cell_type\": \"raw\",\\n   \"id\": \"278b0027\",\\n   \"metadata\": {},\\n   \"source\": [\\n    \"%pip install --upgrade --quiet  langchain-core langchain-community langchain-openai\"\\n   ]\\n  },\\n  {\\n   \"cell_type\": \"code\",\\n   \"execution_count\": 1,\\n   \"id\": \"466b65b3\",\\n   \"metadata\": {},\\n   \"outputs\": [\\n    {\\n     \"data\": {\\n      \"text/plain\": [\\n       \"\\\\\"Why don\\'t ice creams ever get invited to parties?\\\\\\\\n\\\\\\\\nBecause they always drip when things heat up!\\\\\"\"\\n      ]\\n     },\\n     \"execution_count\": 1,\\n     \"metadata\": {},\\n     \"output_type\": \"execute_result\"\\n    }\\n   ],\\n   \"source\": [\\n    \"from langchain_core.output_parsers import StrOutputParser\\\\n\",\\n    \"from langchain_core.prompts import ChatPromptTemplate\\\\n\",\\n    \"from langchain_openai import ChatOpenAI\\\\n\",\\n    \"\\\\n\",\\n    \"prompt = ChatPromptTemplate.from_template(\\\\\"tell me a short joke about {topic}\\\\\")\\\\n\",\\n    \"model = ChatOpenAI(model=\\\\\"gpt-4\\\\\")\\\\n\",\\n    \"output_parser = StrOutputParser()\\\\n\",\\n    \"\\\\n\",\\n    \"chain = prompt | model | output_parser\\\\n\",\\n    \"\\\\n\",\\n    \"chain.invoke({\\\\\"topic\\\\\": \\\\\"ice cream\\\\\"})\"\\n   ]\\n  },\\n  {\\n   \"cell_type\": \"markdown\",\\n   \"id\": \"81c502c5-85ee-4f36-aaf4-d6e350b7792f\",\\n   \"metadata\": {},\\n   \"source\": [\\n    \"Notice this line of this code, where we piece together then different components into a single chain using LCEL:\\\\n\",\\n    \"\\\\n\",\\n    \"```\\\\n\",\\n    \"chain = prompt | model | output_parser\\\\n\",\\n    \"```\\\\n\",\\n    \"\\\\n\",\\n    \"The `|` symbol is similar to a [unix pipe operator](https://en.wikipedia.org/wiki/Pipeline_(Unix)), which chains together the different components feeds the output from one component as input into the next component. \\\\n\",\\n    \"\\\\n\",\\n    \"In this chain the user input is passed to the prompt template, then the prompt template output is passed to the model, then the model output is passed to the output parser. Let\\'s take a look at each component individually to really understand what\\'s going on. \"\\n   ]\\n  },\\n  {\\n   \"cell_type\": \"markdown\",\\n   \"id\": \"aa1b77fa\",\\n   \"metadata\": {},\\n   \"source\": [\\n    \"### 1. Prompt\\\\n\",\\n    \"\\\\n\",\\n    \"`prompt` is a `BasePromptTemplate`, which means it takes in a dictionary of template variables and produces a `PromptValue`. A `PromptValue` is a wrapper around a completed prompt that can be passed to either an `LLM` (which takes a string as input) or `ChatModel` (which takes a sequence of messages as input). It can work with either language model type because it defines logic both for producing `BaseMessage`s and for producing a string.\"\\n   ]\\n  },\\n  {\\n   \"cell_type\": \"code\",\\n   \"execution_count\": 2,\\n   \"id\": \"b8656990\",\\n   \"metadata\": {},\\n   \"outputs\": [\\n    {\\n     \"data\": {\\n      \"text/plain\": [\\n       \"ChatPromptValue(messages=[HumanMessage(content=\\'tell me a short joke about ice cream\\')])\"\\n      ]\\n     },\\n     \"execution_count\": 2,\\n     \"metadata\": {},\\n     \"output_type\": \"execute_result\"\\n    }\\n   ],\\n   \"source\": [\\n    \"prompt_value = prompt.invoke({\\\\\"topic\\\\\": \\\\\"ice cream\\\\\"})\\\\n\",\\n    \"prompt_value\"\\n   ]\\n  },\\n  {\\n   \"cell_type\": \"code\",\\n   \"execution_count\": 3,\\n   \"id\": \"e6034488\",\\n   \"metadata\": {},\\n   \"outputs\": [\\n    {\\n     \"data\": {\\n      \"text/plain\": [\\n       \"[HumanMessage(content=\\'tell me a short joke about ice cream\\')]\"\\n      ]\\n     },\\n     \"execution_count\": 3,\\n     \"metadata\": {},\\n     \"output_type\": \"execute_result\"\\n    }\\n   ],\\n   \"source\": [\\n    \"prompt_value.to_messages()\"\\n   ]\\n  },\\n  {\\n   \"cell_type\": \"code\",\\n   \"execution_count\": 4,\\n   \"id\": \"60565463\",\\n   \"metadata\": {},\\n   \"outputs\": [\\n    {\\n     \"data\": {\\n      \"text/plain\": [\\n       \"\\'Human: tell me a short joke about ice cream\\'\"\\n      ]\\n     },\\n     \"execution_count\": 4,\\n     \"metadata\": {},\\n     \"output_type\": \"execute_result\"\\n    }\\n   ],\\n   \"source\": [\\n    \"prompt_value.to_string()\"\\n   ]\\n  },\\n  {\\n   \"cell_type\": \"markdown\",\\n   \"id\": \"577f0f76\",\\n   \"metadata\": {},\\n   \"source\": [\\n    \"### 2. Model\\\\n\",\\n    \"\\\\n\",\\n    \"The `PromptValue` is then passed to `model`. In this case our `model` is a `ChatModel`, meaning it will output a `BaseMessage`.\"\\n   ]\\n  },\\n  {\\n   \"cell_type\": \"code\",\\n   \"execution_count\": 5,\\n   \"id\": \"33cf5f72\",\\n   \"metadata\": {},\\n   \"outputs\": [\\n    {\\n     \"data\": {\\n      \"text/plain\": [\\n       \"AIMessage(content=\\\\\"Why don\\'t ice creams ever get invited to parties?\\\\\\\\n\\\\\\\\nBecause they always bring a melt down!\\\\\")\"\\n      ]\\n     },\\n     \"execution_count\": 5,\\n     \"metadata\": {},\\n     \"output_type\": \"execute_result\"\\n    }\\n   ],\\n   \"source\": [\\n    \"message = model.invoke(prompt_value)\\\\n\",\\n    \"message\"\\n   ]\\n  },\\n  {\\n   \"cell_type\": \"markdown\",\\n   \"id\": \"327e7db8\",\\n   \"metadata\": {},\\n   \"source\": [\\n    \"If our `model` was an `LLM`, it would output a string.\"\\n   ]\\n  },\\n  {\\n   \"cell_type\": \"code\",\\n   \"execution_count\": 6,\\n   \"id\": \"8feb05da\",\\n   \"metadata\": {},\\n   \"outputs\": [\\n    {\\n     \"data\": {\\n      \"text/plain\": [\\n       \"\\'\\\\\\\\n\\\\\\\\nRobot: Why did the ice cream truck break down? Because it had a meltdown!\\'\"\\n      ]\\n     },\\n     \"execution_count\": 6,\\n     \"metadata\": {},\\n     \"output_type\": \"execute_result\"\\n    }\\n   ],\\n   \"source\": [\\n    \"from langchain_openai.llms import OpenAI\\\\n\",\\n    \"\\\\n\",\\n    \"llm = OpenAI(model=\\\\\"gpt-3.5-turbo-instruct\\\\\")\\\\n\",\\n    \"llm.invoke(prompt_value)\"\\n   ]\\n  },\\n  {\\n   \"cell_type\": \"markdown\",\\n   \"id\": \"91847478\",\\n   \"metadata\": {},\\n   \"source\": [\\n    \"### 3. Output parser\\\\n\",\\n    \"\\\\n\",\\n    \"And lastly we pass our `model` output to the `output_parser`, which is a `BaseOutputParser` meaning it takes either a string or a \\\\n\",\\n    \"`BaseMessage` as input. The `StrOutputParser` specifically simple converts any input into a string.\"\\n   ]\\n  },\\n  {\\n   \"cell_type\": \"code\",\\n   \"execution_count\": 13,\\n   \"id\": \"533e59a8\",\\n   \"metadata\": {},\\n   \"outputs\": [\\n    {\\n     \"data\": {\\n      \"text/plain\": [\\n       \"\\\\\"Why did the ice cream go to therapy? \\\\\\\\n\\\\\\\\nBecause it had too many toppings and couldn\\'t find its cone-fidence!\\\\\"\"\\n      ]\\n     },\\n     \"execution_count\": 13,\\n     \"metadata\": {},\\n     \"output_type\": \"execute_result\"\\n    }\\n   ],\\n   \"source\": [\\n    \"output_parser.invoke(message)\"\\n   ]\\n  },\\n  {\\n   \"cell_type\": \"markdown\",\\n   \"id\": \"9851e842\",\\n   \"metadata\": {},\\n   \"source\": [\\n    \"### 4. Entire Pipeline\\\\n\",\\n    \"\\\\n\",\\n    \"To follow the steps along:\\\\n\",\\n    \"\\\\n\",\\n    \"1. We pass in user input on the desired topic as `{\\\\\"topic\\\\\": \\\\\"ice cream\\\\\"}`\\\\n\",\\n    \"2. The `prompt` component takes the user input, which is then used to construct a PromptValue after using the `topic` to construct the prompt. \\\\n\",\\n    \"3. The `model` component takes the generated prompt, and passes into the OpenAI LLM model for evaluation. The generated output from the model is a `ChatMessage` object. \\\\n\",\\n    \"4. Finally, the `output_parser` component takes in a `ChatMessage`, and transforms this into a Python string, which is returned from the invoke method. \\\\n\"\\n   ]\\n  },\\n  {\\n   \"cell_type\": \"markdown\",\\n   \"id\": \"c4873109\",\\n   \"metadata\": {},\\n   \"source\": [\\n    \"```mermaid\\\\n\",\\n    \"graph LR\\\\n\",\\n    \"    A(Input: topic=ice cream) --> |Dict| B(PromptTemplate)\\\\n\",\\n    \"    B -->|PromptValue| C(ChatModel)    \\\\n\",\\n    \"    C -->|ChatMessage| D(StrOutputParser)\\\\n\",\\n    \"    D --> |String| F(Result)\\\\n\",\\n    \"```\\\\n\"\\n   ]\\n  },\\n  {\\n   \"cell_type\": \"markdown\",\\n   \"id\": \"fe63534d\",\\n   \"metadata\": {},\\n   \"source\": [\\n    \":::info\\\\n\",\\n    \"\\\\n\",\\n    \"Note that if you’re curious about the output of any components, you can always test out a smaller version of the chain such as `prompt`  or `prompt | model` to see the intermediate results:\\\\n\",\\n    \"\\\\n\",\\n    \":::\"\\n   ]\\n  },\\n  {\\n   \"cell_type\": \"code\",\\n   \"execution_count\": null,\\n   \"id\": \"11089b6f-23f8-474f-97ec-8cae8d0ca6d4\",\\n   \"metadata\": {},\\n   \"outputs\": [],\\n   \"source\": [\\n    \"input = {\\\\\"topic\\\\\": \\\\\"ice cream\\\\\"}\\\\n\",\\n    \"\\\\n\",\\n    \"prompt.invoke(input)\\\\n\",\\n    \"# > ChatPromptValue(messages=[HumanMessage(content=\\'tell me a short joke about ice cream\\')])\\\\n\",\\n    \"\\\\n\",\\n    \"(prompt | model).invoke(input)\\\\n\",\\n    \"# > AIMessage(content=\\\\\"Why did the ice cream go to therapy?\\\\\\\\nBecause it had too many toppings and couldn\\'t cone-trol itself!\\\\\")\"\\n   ]\\n  },\\n  {\\n   \"cell_type\": \"markdown\",\\n   \"id\": \"cc7d3b9d-e400-4c9b-9188-f29dac73e6bb\",\\n   \"metadata\": {},\\n   \"source\": [\\n    \"## RAG Search Example\\\\n\",\\n    \"\\\\n\",\\n    \"For our next example, we want to run a retrieval-augmented generation chain to add some context when responding to questions. \"\\n   ]\\n  },\\n  {\\n   \"cell_type\": \"code\",\\n   \"execution_count\": null,\\n   \"id\": \"662426e8-4316-41dc-8312-9b58edc7e0c9\",\\n   \"metadata\": {},\\n   \"outputs\": [],\\n   \"source\": [\\n    \"# Requires:\\\\n\",\\n    \"# pip install langchain docarray tiktoken\\\\n\",\\n    \"\\\\n\",\\n    \"from langchain_community.vectorstores import DocArrayInMemorySearch\\\\n\",\\n    \"from langchain_core.output_parsers import StrOutputParser\\\\n\",\\n    \"from langchain_core.prompts import ChatPromptTemplate\\\\n\",\\n    \"from langchain_core.runnables import RunnableParallel, RunnablePassthrough\\\\n\",\\n    \"from langchain_openai.chat_models import ChatOpenAI\\\\n\",\\n    \"from langchain_openai.embeddings import OpenAIEmbeddings\\\\n\",\\n    \"\\\\n\",\\n    \"vectorstore = DocArrayInMemorySearch.from_texts(\\\\n\",\\n    \"    [\\\\\"harrison worked at kensho\\\\\", \\\\\"bears like to eat honey\\\\\"],\\\\n\",\\n    \"    embedding=OpenAIEmbeddings(),\\\\n\",\\n    \")\\\\n\",\\n    \"retriever = vectorstore.as_retriever()\\\\n\",\\n    \"\\\\n\",\\n    \"template = \\\\\"\\\\\"\\\\\"Answer the question based only on the following context:\\\\n\",\\n    \"{context}\\\\n\",\\n    \"\\\\n\",\\n    \"Question: {question}\\\\n\",\\n    \"\\\\\"\\\\\"\\\\\"\\\\n\",\\n    \"prompt = ChatPromptTemplate.from_template(template)\\\\n\",\\n    \"model = ChatOpenAI()\\\\n\",\\n    \"output_parser = StrOutputParser()\\\\n\",\\n    \"\\\\n\",\\n    \"setup_and_retrieval = RunnableParallel(\\\\n\",\\n    \"    {\\\\\"context\\\\\": retriever, \\\\\"question\\\\\": RunnablePassthrough()}\\\\n\",\\n    \")\\\\n\",\\n    \"chain = setup_and_retrieval | prompt | model | output_parser\\\\n\",\\n    \"\\\\n\",\\n    \"chain.invoke(\\\\\"where did harrison work?\\\\\")\"\\n   ]\\n  },\\n  {\\n   \"cell_type\": \"markdown\",\\n   \"id\": \"f0999140-6001-423b-970b-adf1dfdb4dec\",\\n   \"metadata\": {},\\n   \"source\": [\\n    \"In this case, the composed chain is: \"\\n   ]\\n  },\\n  {\\n   \"cell_type\": \"code\",\\n   \"execution_count\": null,\\n   \"id\": \"5b88e9bb-f04a-4a56-87ec-19a0e6350763\",\\n   \"metadata\": {},\\n   \"outputs\": [],\\n   \"source\": [\\n    \"chain = setup_and_retrieval | prompt | model | output_parser\"\\n   ]\\n  },\\n  {\\n   \"cell_type\": \"markdown\",\\n   \"id\": \"6e929e15-40a5-4569-8969-384f636cab87\",\\n   \"metadata\": {},\\n   \"source\": [\\n    \"To explain this, we first can see that the prompt template above takes in `context` and `question` as values to be substituted in the prompt. Before building the prompt template, we want to retrieve relevant documents to the search and include them as part of the context. \\\\n\",\\n    \"\\\\n\",\\n    \"As a preliminary step, we’ve setup the retriever using an in memory store, which can retrieve documents based on a query. This is a runnable component as well that can be chained together with other components, but you can also try to run it separately:\"\\n   ]\\n  },\\n  {\\n   \"cell_type\": \"code\",\\n   \"execution_count\": null,\\n   \"id\": \"a7319ef6-613b-4638-ad7d-4a2183702c1d\",\\n   \"metadata\": {},\\n   \"outputs\": [],\\n   \"source\": [\\n    \"retriever.invoke(\\\\\"where did harrison work?\\\\\")\"\\n   ]\\n  },\\n  {\\n   \"cell_type\": \"markdown\",\\n   \"id\": \"e6833844-f1c4-444c-a3d2-31b3c6b31d46\",\\n   \"metadata\": {},\\n   \"source\": [\\n    \"We then use the `RunnableParallel` to prepare the expected inputs into the prompt by using the entries for the retrieved documents as well as the original user question, using the retriever for document search, and RunnablePassthrough to pass the user’s question:\"\\n   ]\\n  },\\n  {\\n   \"cell_type\": \"code\",\\n   \"execution_count\": null,\\n   \"id\": \"dcbca26b-d6b9-4c24-806c-1ec8fdaab4ed\",\\n   \"metadata\": {},\\n   \"outputs\": [],\\n   \"source\": [\\n    \"setup_and_retrieval = RunnableParallel(\\\\n\",\\n    \"    {\\\\\"context\\\\\": retriever, \\\\\"question\\\\\": RunnablePassthrough()}\\\\n\",\\n    \")\"\\n   ]\\n  },\\n  {\\n   \"cell_type\": \"markdown\",\\n   \"id\": \"68c721c1-048b-4a64-9d78-df54fe465992\",\\n   \"metadata\": {},\\n   \"source\": [\\n    \"To review, the complete chain is:\"\\n   ]\\n  },\\n  {\\n   \"cell_type\": \"code\",\\n   \"execution_count\": null,\\n   \"id\": \"1d5115a7-7b8e-458b-b936-26cc87ee81c4\",\\n   \"metadata\": {},\\n   \"outputs\": [],\\n   \"source\": [\\n    \"setup_and_retrieval = RunnableParallel(\\\\n\",\\n    \"    {\\\\\"context\\\\\": retriever, \\\\\"question\\\\\": RunnablePassthrough()}\\\\n\",\\n    \")\\\\n\",\\n    \"chain = setup_and_retrieval | prompt | model | output_parser\"\\n   ]\\n  },\\n  {\\n   \"cell_type\": \"markdown\",\\n   \"id\": \"5c6f5f74-b387-48a0-bedd-1fae202cd10a\",\\n   \"metadata\": {},\\n   \"source\": [\\n    \"With the flow being:\\\\n\",\\n    \"\\\\n\",\\n    \"1. The first steps create a `RunnableParallel` object with two entries.  The first entry, `context` will include the document results fetched by the retriever. The second entry, `question` will contain the user’s original question. To pass on the question, we use `RunnablePassthrough` to copy this entry. \\\\n\",\\n    \"2. Feed the dictionary from the step above to the `prompt` component. It then takes the user input which is `question` as well as the retrieved document which is `context` to construct a prompt and output a PromptValue.  \\\\n\",\\n    \"3. The `model` component takes the generated prompt, and passes into the OpenAI LLM model for evaluation. The generated output from the model is a `ChatMessage` object. \\\\n\",\\n    \"4. Finally, the `output_parser` component takes in a `ChatMessage`, and transforms this into a Python string, which is returned from the invoke method.\\\\n\",\\n    \"\\\\n\",\\n    \"```mermaid\\\\n\",\\n    \"graph LR\\\\n\",\\n    \"    A(Question) --> B(RunnableParallel)\\\\n\",\\n    \"    B -->|Question| C(Retriever)\\\\n\",\\n    \"    B -->|Question| D(RunnablePassThrough)\\\\n\",\\n    \"    C -->|context=retrieved docs| E(PromptTemplate)\\\\n\",\\n    \"    D -->|question=Question| E\\\\n\",\\n    \"    E -->|PromptValue| F(ChatModel)    \\\\n\",\\n    \"    F -->|ChatMessage| G(StrOutputParser)\\\\n\",\\n    \"    G --> |String| H(Result)\\\\n\",\\n    \"```\\\\n\",\\n    \"\\\\n\"\\n   ]\\n  },\\n  {\\n   \"cell_type\": \"markdown\",\\n   \"id\": \"8c2438df-164e-4bbe-b5f4-461695e45b0f\",\\n   \"metadata\": {},\\n   \"source\": [\\n    \"## Next steps\\\\n\",\\n    \"\\\\n\",\\n    \"We recommend reading our [Why use LCEL](/docs/expression_language/why) section next to see a side-by-side comparison of the code needed to produce common functionality with and without LCEL.\"\\n   ]\\n  }\\n ],\\n \"metadata\": {\\n  \"kernelspec\": {\\n   \"display_name\": \"Python 3 (ipykernel)\",\\n   \"language\": \"python\",\\n   \"name\": \"python3\"\\n  },\\n  \"language_info\": {\\n   \"codemirror_mode\": {\\n    \"name\": \"ipython\",\\n    \"version\": 3\\n   },\\n   \"file_extension\": \".py\",\\n   \"mimetype\": \"text/x-python\",\\n   \"name\": \"python\",\\n   \"nbconvert_exporter\": \"python\",\\n   \"pygments_lexer\": \"ipython3\",\\n   \"version\": \"3.11.4\"\\n  }\\n },\\n \"nbformat\": 4,\\n \"nbformat_minor\": 5\\n}\\n' metadata={'source': '/mnt/c/Users/mikke/PycharmProjects/LangChainRAGExamples/lang_chain_docs_2024/expression_language/get_started.txt'}\n"
     ]
    },
    {
     "name": "stderr",
     "output_type": "stream",
     "text": [
      "\n"
     ]
    }
   ],
   "source": [
    "loader = DirectoryLoader(\"./lang_chain_docs_2024\", glob=\"**/*.txt\", show_progress=True, recursive=True,\n",
    "                         silent_errors=True, loader_cls=TextLoader)\n",
    "documents = loader.load()\n",
    "print(\"First document:\", documents[0])"
   ],
   "metadata": {
    "collapsed": false,
    "ExecuteTime": {
     "end_time": "2024-01-11T09:43:12.590722800Z",
     "start_time": "2024-01-11T09:43:12.215081300Z"
    }
   },
   "id": "f1fafe4287cbb598",
   "execution_count": 12
  },
  {
   "cell_type": "markdown",
   "source": [
    "Splitting documents into chunks"
   ],
   "metadata": {
    "collapsed": false
   },
   "id": "62355d67e44e20a2"
  },
  {
   "cell_type": "code",
   "outputs": [],
   "source": [
    "text_splitter = RecursiveCharacterTextSplitter(chunk_size=1000, chunk_overlap=200)\n",
    "splits = text_splitter.split_documents(documents)"
   ],
   "metadata": {
    "collapsed": false,
    "ExecuteTime": {
     "end_time": "2024-01-11T09:43:12.591721Z",
     "start_time": "2024-01-11T09:43:12.583700400Z"
    }
   },
   "id": "de03c9f7284eb4e6",
   "execution_count": 13
  },
  {
   "cell_type": "markdown",
   "source": [
    "Creating and indexing into a vectorstore (ChromaDB)"
   ],
   "metadata": {
    "collapsed": false
   },
   "id": "22fedd3f690c453d"
  },
  {
   "cell_type": "code",
   "outputs": [],
   "source": [
    "vectorstore = Chroma.from_documents(documents=splits, embedding=OpenAIEmbeddings())"
   ],
   "metadata": {
    "collapsed": false,
    "ExecuteTime": {
     "end_time": "2024-01-11T09:43:23.236091400Z",
     "start_time": "2024-01-11T09:43:12.584715500Z"
    }
   },
   "id": "80efbac8a966a3b7",
   "execution_count": 14
  },
  {
   "cell_type": "markdown",
   "source": [
    "Creating retriever from vectorstore"
   ],
   "metadata": {
    "collapsed": false
   },
   "id": "d9e88414fe9eeb10"
  },
  {
   "cell_type": "code",
   "outputs": [],
   "source": [
    "retriever = vectorstore.as_retriever()"
   ],
   "metadata": {
    "collapsed": false,
    "ExecuteTime": {
     "end_time": "2024-01-11T09:43:23.284962700Z",
     "start_time": "2024-01-11T09:43:23.283639800Z"
    }
   },
   "id": "7941cb54f9997504",
   "execution_count": 15
  },
  {
   "cell_type": "markdown",
   "source": [
    "Setting up a prompt template"
   ],
   "metadata": {
    "collapsed": false
   },
   "id": "da31ac5bac1e177e"
  },
  {
   "cell_type": "code",
   "outputs": [
    {
     "name": "stdout",
     "output_type": "stream",
     "text": [
      "input_variables=['context', 'question'] messages=[HumanMessagePromptTemplate(prompt=PromptTemplate(input_variables=['context', 'question'], template=\"You are an assistant for question-answering tasks. Use the following pieces of retrieved context to answer the question. If you don't know the answer, just say that you don't know. Use three sentences maximum and keep the answer concise.\\nQuestion: {question} \\nContext: {context} \\nAnswer:\"))]\n"
     ]
    }
   ],
   "source": [
    "prompt = hub.pull(\"rlm/rag-prompt\")\n",
    "print(prompt)"
   ],
   "metadata": {
    "collapsed": false,
    "ExecuteTime": {
     "end_time": "2024-01-11T09:43:24.641235800Z",
     "start_time": "2024-01-11T09:43:23.284962700Z"
    }
   },
   "id": "1009e24c49425809",
   "execution_count": 16
  },
  {
   "cell_type": "markdown",
   "source": [
    "Connecting to OpenAI LLM API..."
   ],
   "metadata": {
    "collapsed": false
   },
   "id": "5aacda24c888551f"
  },
  {
   "cell_type": "code",
   "outputs": [],
   "source": [
    "llm = ChatOpenAI(model_name=\"gpt-3.5-turbo\", temperature=0)"
   ],
   "metadata": {
    "collapsed": false,
    "ExecuteTime": {
     "end_time": "2024-01-11T09:43:24.865100200Z",
     "start_time": "2024-01-11T09:43:24.637231400Z"
    }
   },
   "id": "48044b7f0db051c9",
   "execution_count": 17
  },
  {
   "cell_type": "markdown",
   "source": [
    "Creating RAG chain..."
   ],
   "metadata": {
    "collapsed": false
   },
   "id": "c58857dd07498aa"
  },
  {
   "cell_type": "code",
   "outputs": [],
   "source": [
    "rag_chain = (\n",
    "        {\"context\": retriever | format_docs, \"question\": RunnablePassthrough()}\n",
    "        | prompt\n",
    "        | llm\n",
    "        | StrOutputParser()\n",
    ")"
   ],
   "metadata": {
    "collapsed": false,
    "ExecuteTime": {
     "end_time": "2024-01-11T09:43:24.915237200Z",
     "start_time": "2024-01-11T09:43:24.913913300Z"
    }
   },
   "id": "bf3a41fb5ebcf86c",
   "execution_count": 18
  },
  {
   "cell_type": "markdown",
   "source": [
    "Invoking RAG..."
   ],
   "metadata": {
    "collapsed": false
   },
   "id": "439e5eb95546790b"
  },
  {
   "cell_type": "code",
   "outputs": [
    {
     "name": "stdout",
     "output_type": "stream",
     "text": [
      "To get the graph of a chain in LangChain, you can use the command \"chain.get_graph()\". To print the graph as ASCII, you can use the command \"chain.get_graph().print_ascii()\".\n"
     ]
    }
   ],
   "source": [
    "result = rag_chain.invoke(\"In LangChain, how can I get the graph\"\n",
    "                          \" of a chain and print it as ascii?\")\n",
    "print(result)"
   ],
   "metadata": {
    "collapsed": false,
    "ExecuteTime": {
     "end_time": "2024-01-11T09:43:27.817728900Z",
     "start_time": "2024-01-11T09:43:24.913913300Z"
    }
   },
   "id": "5a94c2fdc4fc8cea",
   "execution_count": 19
  },
  {
   "cell_type": "code",
   "outputs": [
    {
     "name": "stdout",
     "output_type": "stream",
     "text": [
      "             +---------------------------------+           \n",
      "             | Parallel<context,question>Input |           \n",
      "             +---------------------------------+           \n",
      "                    ****               ****                \n",
      "                 ***                       ***             \n",
      "               **                             ***          \n",
      "+----------------------+                         **        \n",
      "| VectorStoreRetriever |                          *        \n",
      "+----------------------+                          *        \n",
      "            *                                     *        \n",
      "            *                                     *        \n",
      "            *                                     *        \n",
      "+---------------------+                   +-------------+  \n",
      "| Lambda(format_docs) |                   | Passthrough |  \n",
      "+---------------------+                   +-------------+  \n",
      "                    ****               ***                 \n",
      "                        ***         ***                    \n",
      "                           **     **                       \n",
      "             +----------------------------------+          \n",
      "             | Parallel<context,question>Output |          \n",
      "             +----------------------------------+          \n",
      "                               *                           \n",
      "                               *                           \n",
      "                               *                           \n",
      "                    +--------------------+                 \n",
      "                    | ChatPromptTemplate |                 \n",
      "                    +--------------------+                 \n",
      "                               *                           \n",
      "                               *                           \n",
      "                               *                           \n",
      "                        +------------+                     \n",
      "                        | ChatOpenAI |                     \n",
      "                        +------------+                     \n",
      "                               *                           \n",
      "                               *                           \n",
      "                               *                           \n",
      "                     +-----------------+                   \n",
      "                     | StrOutputParser |                   \n",
      "                     +-----------------+                   \n",
      "                               *                           \n",
      "                               *                           \n",
      "                               *                           \n",
      "                  +-----------------------+                \n",
      "                  | StrOutputParserOutput |                \n",
      "                  +-----------------------+                \n"
     ]
    }
   ],
   "source": [
    "rag_chain.get_graph().print_ascii()"
   ],
   "metadata": {
    "collapsed": false,
    "ExecuteTime": {
     "end_time": "2024-01-11T09:43:27.836688700Z",
     "start_time": "2024-01-11T09:43:27.819737500Z"
    }
   },
   "id": "a8f71b5973b31696",
   "execution_count": 20
  },
  {
   "cell_type": "code",
   "outputs": [],
   "source": [
    "vectorstore.delete_collection()"
   ],
   "metadata": {
    "collapsed": false,
    "ExecuteTime": {
     "end_time": "2024-01-11T09:43:27.883700100Z",
     "start_time": "2024-01-11T09:43:27.835683800Z"
    }
   },
   "id": "9782eb9fe5e9fe34",
   "execution_count": 21
  }
 ],
 "metadata": {
  "kernelspec": {
   "display_name": "Python 3",
   "language": "python",
   "name": "python3"
  },
  "language_info": {
   "codemirror_mode": {
    "name": "ipython",
    "version": 2
   },
   "file_extension": ".py",
   "mimetype": "text/x-python",
   "name": "python",
   "nbconvert_exporter": "python",
   "pygments_lexer": "ipython2",
   "version": "2.7.6"
  }
 },
 "nbformat": 4,
 "nbformat_minor": 5
}
