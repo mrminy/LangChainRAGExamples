{
 "cells": [
  {
   "cell_type": "code",
   "execution_count": null,
   "id": "initial_id",
   "metadata": {
    "collapsed": true
   },
   "outputs": [],
   "source": [
    "from langchain.globals import set_debug\n",
    "from langchain.text_splitter import RecursiveCharacterTextSplitter\n",
    "from langchain_community.document_loaders import PyPDFLoader\n",
    "from langchain_community.embeddings import HuggingFaceEmbeddings\n",
    "from langchain_community.llms.huggingface_pipeline import HuggingFacePipeline\n",
    "from langchain_community.vectorstores.chroma import Chroma\n",
    "from langchain_core.output_parsers import StrOutputParser\n",
    "from langchain_core.prompts import PromptTemplate\n",
    "from langchain_core.runnables import RunnablePassthrough\n",
    "from transformers import AutoModelForCausalLM, AutoTokenizer, pipeline"
   ]
  },
  {
   "cell_type": "markdown",
   "source": [
    "Adding helper functions and turning debug mode on"
   ],
   "metadata": {
    "collapsed": false
   },
   "id": "103fd637e6489535"
  },
  {
   "cell_type": "code",
   "outputs": [],
   "source": [
    "set_debug(True)\n",
    "\n",
    "\n",
    "def format_docs(docs):\n",
    "    return \"\\n\\n\".join(doc.page_content for doc in docs)"
   ],
   "metadata": {
    "collapsed": false
   },
   "id": "550f91e5a0a4b914",
   "execution_count": null
  },
  {
   "cell_type": "code",
   "outputs": [],
   "source": [
    "embeddings_model_id = \"NbAiLab/nb-bert-large\"\n",
    "model_id = \"RuterNorway/Llama-2-13b-chat-norwegian-GPTQ\""
   ],
   "metadata": {
    "collapsed": false
   },
   "id": "e85d68e29dfd66c5",
   "execution_count": null
  },
  {
   "cell_type": "markdown",
   "source": [
    "Loading data from PDF"
   ],
   "metadata": {
    "collapsed": false
   },
   "id": "69996c7fb54f12d2"
  },
  {
   "cell_type": "code",
   "outputs": [],
   "source": [
    "loader = PyPDFLoader(\"./data/my-cv.pdf\")\n",
    "data = loader.load()"
   ],
   "metadata": {
    "collapsed": false
   },
   "id": "528782ba07e8ea59",
   "execution_count": null
  },
  {
   "cell_type": "markdown",
   "source": [
    "Splitting text into chunks"
   ],
   "metadata": {
    "collapsed": false
   },
   "id": "6b2ba901a7ed521d"
  },
  {
   "cell_type": "code",
   "outputs": [],
   "source": [
    "text_splitter = RecursiveCharacterTextSplitter(chunk_size=512, chunk_overlap=24, keep_separator=True)\n",
    "splits = text_splitter.split_documents(data)"
   ],
   "metadata": {
    "collapsed": false
   },
   "id": "664527de7df9f9f1",
   "execution_count": null
  },
  {
   "cell_type": "markdown",
   "source": [
    "Creating vectorstore and indexing the embeddings into ChromaDB"
   ],
   "metadata": {
    "collapsed": false
   },
   "id": "2597677ff50a5679"
  },
  {
   "cell_type": "code",
   "outputs": [],
   "source": [
    "embeddings = HuggingFaceEmbeddings(model_name=embeddings_model_id)\n",
    "vectorstore = Chroma.from_documents(documents=splits, embedding=embeddings)"
   ],
   "metadata": {
    "collapsed": false
   },
   "id": "2dc3fc256105c2ed",
   "execution_count": null
  },
  {
   "cell_type": "markdown",
   "source": [
    "Creating the retriever based on the vectorstore"
   ],
   "metadata": {
    "collapsed": false
   },
   "id": "b390d995b376652b"
  },
  {
   "cell_type": "code",
   "outputs": [],
   "source": [
    "retriever = vectorstore.as_retriever()"
   ],
   "metadata": {
    "collapsed": false
   },
   "id": "aef4ffaa7d7e1f27",
   "execution_count": null
  },
  {
   "cell_type": "markdown",
   "source": [
    "Creating a custom prompt template"
   ],
   "metadata": {
    "collapsed": false
   },
   "id": "b54c3f459c632588"
  },
  {
   "cell_type": "code",
   "outputs": [],
   "source": [
    "prompt = PromptTemplate(input_variables=['context', 'question'],\n",
    "                        template=\"Du er en assistent for en IT konsulent. \"\n",
    "                                 \"Bruk følgende informasjon for å besvare oppgaven. Hvis du ikke vet svaret, \"\n",
    "                                 \"så si at du ikke vet det. Svar så presist som mulig.\"\n",
    "                                 \"\\nOppgave: {question}\\nInformasjon: {context}\\nSvar:\")"
   ],
   "metadata": {
    "collapsed": false
   },
   "id": "249502178ad3c7c0",
   "execution_count": null
  },
  {
   "cell_type": "markdown",
   "source": [
    "Creating the llm"
   ],
   "metadata": {
    "collapsed": false
   },
   "id": "d8b014236cf713a5"
  },
  {
   "cell_type": "code",
   "outputs": [],
   "source": [
    "llm = AutoModelForCausalLM.from_pretrained(model_id, device_map=\"auto\")\n",
    "tokenizer = AutoTokenizer.from_pretrained(model_id)\n",
    "pipe = pipeline(\n",
    "    \"text-generation\",\n",
    "    model=llm,\n",
    "    do_sample=True,\n",
    "    tokenizer=tokenizer,\n",
    "    max_new_tokens=512,\n",
    "    temperature=0.8,\n",
    "    top_p=0.92,\n",
    "    repetition_penalty=1.13\n",
    ")\n",
    "hf = HuggingFacePipeline(pipeline=pipe)"
   ],
   "metadata": {
    "collapsed": false
   },
   "id": "c72634598031ab71",
   "execution_count": null
  },
  {
   "cell_type": "markdown",
   "source": [
    "Chainging everything together via LangChain Expression Language (LECL)"
   ],
   "metadata": {
    "collapsed": false
   },
   "id": "fa37d59db19f8d57"
  },
  {
   "cell_type": "code",
   "outputs": [],
   "source": [
    "rag_chain = (\n",
    "        {\"context\": retriever | format_docs, \"question\": RunnablePassthrough()}\n",
    "        | prompt\n",
    "        | hf\n",
    "        | StrOutputParser()\n",
    ")"
   ],
   "metadata": {
    "collapsed": false
   },
   "id": "2bd555f74257fd0a",
   "execution_count": null
  },
  {
   "cell_type": "markdown",
   "source": [
    "Querying the chain"
   ],
   "metadata": {
    "collapsed": false
   },
   "id": "447ce009c3b3d2a"
  },
  {
   "cell_type": "code",
   "outputs": [],
   "source": [
    "# prompt = \"Nevn alle språk Mikkel kan i en liste.\"\n",
    "prompt = \"Hvilket programmeringsspråk kan Mikkel best?\"\n",
    "result = rag_chain.invoke(prompt)\n",
    "print(result)"
   ],
   "metadata": {
    "collapsed": false
   },
   "id": "c3451c3cd6bdec4d",
   "execution_count": null
  }
 ],
 "metadata": {
  "kernelspec": {
   "display_name": "Python 3",
   "language": "python",
   "name": "python3"
  },
  "language_info": {
   "codemirror_mode": {
    "name": "ipython",
    "version": 2
   },
   "file_extension": ".py",
   "mimetype": "text/x-python",
   "name": "python",
   "nbconvert_exporter": "python",
   "pygments_lexer": "ipython2",
   "version": "2.7.6"
  }
 },
 "nbformat": 4,
 "nbformat_minor": 5
}
